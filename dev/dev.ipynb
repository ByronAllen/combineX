{
 "cells": [
  {
   "cell_type": "code",
   "execution_count": 22,
   "metadata": {
    "collapsed": false
   },
   "outputs": [
    {
     "name": "stdout",
     "output_type": "stream",
     "text": [
      "What directory would you like to read from?: data\n",
      "What directory would you like to write to?: output\n",
      "Save output file as?:bish\n",
      "./data\n",
      "./output\n"
     ]
    }
   ],
   "source": [
    "import os\n",
    "import pandas as pd\n",
    "\n",
    "directory='./' + raw_input('What directory would you like to read from?: ')\n",
    "output_directory='./' + raw_input('What directory would you like to write to?: ')\n",
    "output_file='/' + raw_input('Save output file as?:')\n",
    "csvs=[csv for csv in os.listdir(directory) if csv.endswith('.csv') == True]\n",
    "length_of_dataset=pd.read_csv(directory + '/' + csvs[0]).shape[0]\n",
    "df=pd.DataFrame(index=range(length_of_dataset))\n",
    "\n",
    "for csv in csvs:\n",
    "    file_path = directory + '/' + csv\n",
    "    new_df=pd.read_csv(file_path, index_col=0)[['x']]\n",
    "    new_df[csv.split('.')[0]]=new_df.x\n",
    "    new_df.drop(labels='x', inplace=True, axis=1)\n",
    "    df=df.merge(new_df, left_index=True, right_index=True)\n",
    "\n",
    "df.to_csv(output_directory + output_file + '.csv')"
   ]
  },
  {
   "cell_type": "code",
   "execution_count": 2,
   "metadata": {
    "collapsed": false
   },
   "outputs": [],
   "source": [
    "test = !pip list"
   ]
  },
  {
   "cell_type": "code",
   "execution_count": 14,
   "metadata": {
    "collapsed": false
   },
   "outputs": [],
   "source": [
    "if 'pandas' not in [item.split(' ')[0].lower() for item in test]:\n",
    "    !pip install pandas"
   ]
  },
  {
   "cell_type": "code",
   "execution_count": null,
   "metadata": {
    "collapsed": true
   },
   "outputs": [],
   "source": []
  }
 ],
 "metadata": {
  "kernelspec": {
   "display_name": "Python 2",
   "language": "python",
   "name": "python2"
  },
  "language_info": {
   "codemirror_mode": {
    "name": "ipython",
    "version": 2
   },
   "file_extension": ".py",
   "mimetype": "text/x-python",
   "name": "python",
   "nbconvert_exporter": "python",
   "pygments_lexer": "ipython2",
   "version": "2.7.13"
  }
 },
 "nbformat": 4,
 "nbformat_minor": 0
}
